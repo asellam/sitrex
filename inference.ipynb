{
  "cells": [
    {
      "cell_type": "code",
      "source": [
        "!git clone https://github.com/asellam/sitrex.git\n",
        "%cd sitrex"
      ],
      "metadata": {
        "colab": {
          "base_uri": "https://localhost:8080/"
        },
        "id": "DC-LL-GZA4ym",
        "outputId": "2b3c604d-3033-4b57-9b00-6e1793b7e56f"
      },
      "id": "DC-LL-GZA4ym",
      "execution_count": 1,
      "outputs": [
        {
          "output_type": "stream",
          "name": "stdout",
          "text": [
            "fatal: destination path 'sitrex' already exists and is not an empty directory.\n",
            "/content/sitrex\n"
          ]
        }
      ]
    },
    {
      "cell_type": "code",
      "source": [
        "!pip install -r requirements.txt"
      ],
      "metadata": {
        "colab": {
          "base_uri": "https://localhost:8080/",
          "height": 1000
        },
        "id": "kCSGmSbYA-G5",
        "outputId": "f9843178-d75e-4b7f-f1f2-f3b826888737"
      },
      "id": "kCSGmSbYA-G5",
      "execution_count": 2,
      "outputs": [
        {
          "output_type": "stream",
          "name": "stdout",
          "text": [
            "Collecting numpy<2.0,>=1.23 (from -r requirements.txt (line 2))\n",
            "  Downloading numpy-1.26.4-cp312-cp312-manylinux_2_17_x86_64.manylinux2014_x86_64.whl.metadata (61 kB)\n",
            "\u001b[?25l     \u001b[90m━━━━━━━━━━━━━━━━━━━━━━━━━━━━━━━━━━━━━━━━\u001b[0m \u001b[32m0.0/61.0 kB\u001b[0m \u001b[31m?\u001b[0m eta \u001b[36m-:--:--\u001b[0m\r\u001b[2K     \u001b[90m━━━━━━━━━━━━━━━━━━━━━━━━━━━━━━━━━━━━━━━━\u001b[0m \u001b[32m61.0/61.0 kB\u001b[0m \u001b[31m4.2 MB/s\u001b[0m eta \u001b[36m0:00:00\u001b[0m\n",
            "\u001b[?25hRequirement already satisfied: scipy>=1.10 in /usr/local/lib/python3.12/dist-packages (from -r requirements.txt (line 3)) (1.16.1)\n",
            "Requirement already satisfied: tqdm>=4.65 in /usr/local/lib/python3.12/dist-packages (from -r requirements.txt (line 6)) (4.67.1)\n",
            "Requirement already satisfied: scikit-learn>=1.2 in /usr/local/lib/python3.12/dist-packages (from -r requirements.txt (line 9)) (1.6.1)\n",
            "Requirement already satisfied: kagglehub>=0.2 in /usr/local/lib/python3.12/dist-packages (from -r requirements.txt (line 12)) (0.3.12)\n",
            "Collecting mediapipe==0.10.21 (from -r requirements.txt (line 15))\n",
            "  Downloading mediapipe-0.10.21-cp312-cp312-manylinux_2_28_x86_64.whl.metadata (9.7 kB)\n",
            "Requirement already satisfied: absl-py in /usr/local/lib/python3.12/dist-packages (from mediapipe==0.10.21->-r requirements.txt (line 15)) (1.4.0)\n",
            "Requirement already satisfied: attrs>=19.1.0 in /usr/local/lib/python3.12/dist-packages (from mediapipe==0.10.21->-r requirements.txt (line 15)) (25.3.0)\n",
            "Requirement already satisfied: flatbuffers>=2.0 in /usr/local/lib/python3.12/dist-packages (from mediapipe==0.10.21->-r requirements.txt (line 15)) (25.2.10)\n",
            "Requirement already satisfied: jax in /usr/local/lib/python3.12/dist-packages (from mediapipe==0.10.21->-r requirements.txt (line 15)) (0.5.3)\n",
            "Requirement already satisfied: jaxlib in /usr/local/lib/python3.12/dist-packages (from mediapipe==0.10.21->-r requirements.txt (line 15)) (0.5.3)\n",
            "Requirement already satisfied: matplotlib in /usr/local/lib/python3.12/dist-packages (from mediapipe==0.10.21->-r requirements.txt (line 15)) (3.10.0)\n",
            "Requirement already satisfied: opencv-contrib-python in /usr/local/lib/python3.12/dist-packages (from mediapipe==0.10.21->-r requirements.txt (line 15)) (4.12.0.88)\n",
            "Collecting protobuf<5,>=4.25.3 (from mediapipe==0.10.21->-r requirements.txt (line 15))\n",
            "  Downloading protobuf-4.25.8-cp37-abi3-manylinux2014_x86_64.whl.metadata (541 bytes)\n",
            "Collecting sounddevice>=0.4.4 (from mediapipe==0.10.21->-r requirements.txt (line 15))\n",
            "  Downloading sounddevice-0.5.2-py3-none-any.whl.metadata (1.6 kB)\n",
            "Requirement already satisfied: sentencepiece in /usr/local/lib/python3.12/dist-packages (from mediapipe==0.10.21->-r requirements.txt (line 15)) (0.2.1)\n",
            "Requirement already satisfied: joblib>=1.2.0 in /usr/local/lib/python3.12/dist-packages (from scikit-learn>=1.2->-r requirements.txt (line 9)) (1.5.1)\n",
            "Requirement already satisfied: threadpoolctl>=3.1.0 in /usr/local/lib/python3.12/dist-packages (from scikit-learn>=1.2->-r requirements.txt (line 9)) (3.6.0)\n",
            "Requirement already satisfied: packaging in /usr/local/lib/python3.12/dist-packages (from kagglehub>=0.2->-r requirements.txt (line 12)) (25.0)\n",
            "Requirement already satisfied: pyyaml in /usr/local/lib/python3.12/dist-packages (from kagglehub>=0.2->-r requirements.txt (line 12)) (6.0.2)\n",
            "Requirement already satisfied: requests in /usr/local/lib/python3.12/dist-packages (from kagglehub>=0.2->-r requirements.txt (line 12)) (2.32.4)\n",
            "Requirement already satisfied: CFFI>=1.0 in /usr/local/lib/python3.12/dist-packages (from sounddevice>=0.4.4->mediapipe==0.10.21->-r requirements.txt (line 15)) (1.17.1)\n",
            "Requirement already satisfied: ml_dtypes>=0.4.0 in /usr/local/lib/python3.12/dist-packages (from jax->mediapipe==0.10.21->-r requirements.txt (line 15)) (0.5.3)\n",
            "Requirement already satisfied: opt_einsum in /usr/local/lib/python3.12/dist-packages (from jax->mediapipe==0.10.21->-r requirements.txt (line 15)) (3.4.0)\n",
            "Requirement already satisfied: contourpy>=1.0.1 in /usr/local/lib/python3.12/dist-packages (from matplotlib->mediapipe==0.10.21->-r requirements.txt (line 15)) (1.3.3)\n",
            "Requirement already satisfied: cycler>=0.10 in /usr/local/lib/python3.12/dist-packages (from matplotlib->mediapipe==0.10.21->-r requirements.txt (line 15)) (0.12.1)\n",
            "Requirement already satisfied: fonttools>=4.22.0 in /usr/local/lib/python3.12/dist-packages (from matplotlib->mediapipe==0.10.21->-r requirements.txt (line 15)) (4.59.1)\n",
            "Requirement already satisfied: kiwisolver>=1.3.1 in /usr/local/lib/python3.12/dist-packages (from matplotlib->mediapipe==0.10.21->-r requirements.txt (line 15)) (1.4.9)\n",
            "Requirement already satisfied: pillow>=8 in /usr/local/lib/python3.12/dist-packages (from matplotlib->mediapipe==0.10.21->-r requirements.txt (line 15)) (11.3.0)\n",
            "Requirement already satisfied: pyparsing>=2.3.1 in /usr/local/lib/python3.12/dist-packages (from matplotlib->mediapipe==0.10.21->-r requirements.txt (line 15)) (3.2.3)\n",
            "Requirement already satisfied: python-dateutil>=2.7 in /usr/local/lib/python3.12/dist-packages (from matplotlib->mediapipe==0.10.21->-r requirements.txt (line 15)) (2.9.0.post0)\n",
            "INFO: pip is looking at multiple versions of opencv-contrib-python to determine which version is compatible with other requirements. This could take a while.\n",
            "Collecting opencv-contrib-python (from mediapipe==0.10.21->-r requirements.txt (line 15))\n",
            "  Downloading opencv_contrib_python-4.11.0.86-cp37-abi3-manylinux_2_17_x86_64.manylinux2014_x86_64.whl.metadata (20 kB)\n",
            "Requirement already satisfied: charset_normalizer<4,>=2 in /usr/local/lib/python3.12/dist-packages (from requests->kagglehub>=0.2->-r requirements.txt (line 12)) (3.4.3)\n",
            "Requirement already satisfied: idna<4,>=2.5 in /usr/local/lib/python3.12/dist-packages (from requests->kagglehub>=0.2->-r requirements.txt (line 12)) (3.10)\n",
            "Requirement already satisfied: urllib3<3,>=1.21.1 in /usr/local/lib/python3.12/dist-packages (from requests->kagglehub>=0.2->-r requirements.txt (line 12)) (2.5.0)\n",
            "Requirement already satisfied: certifi>=2017.4.17 in /usr/local/lib/python3.12/dist-packages (from requests->kagglehub>=0.2->-r requirements.txt (line 12)) (2025.8.3)\n",
            "Requirement already satisfied: pycparser in /usr/local/lib/python3.12/dist-packages (from CFFI>=1.0->sounddevice>=0.4.4->mediapipe==0.10.21->-r requirements.txt (line 15)) (2.22)\n",
            "Requirement already satisfied: six>=1.5 in /usr/local/lib/python3.12/dist-packages (from python-dateutil>=2.7->matplotlib->mediapipe==0.10.21->-r requirements.txt (line 15)) (1.17.0)\n",
            "Downloading mediapipe-0.10.21-cp312-cp312-manylinux_2_28_x86_64.whl (35.6 MB)\n",
            "\u001b[2K   \u001b[90m━━━━━━━━━━━━━━━━━━━━━━━━━━━━━━━━━━━━━━━━\u001b[0m \u001b[32m35.6/35.6 MB\u001b[0m \u001b[31m32.3 MB/s\u001b[0m eta \u001b[36m0:00:00\u001b[0m\n",
            "\u001b[?25hDownloading numpy-1.26.4-cp312-cp312-manylinux_2_17_x86_64.manylinux2014_x86_64.whl (18.0 MB)\n",
            "\u001b[2K   \u001b[90m━━━━━━━━━━━━━━━━━━━━━━━━━━━━━━━━━━━━━━━━\u001b[0m \u001b[32m18.0/18.0 MB\u001b[0m \u001b[31m57.3 MB/s\u001b[0m eta \u001b[36m0:00:00\u001b[0m\n",
            "\u001b[?25hDownloading protobuf-4.25.8-cp37-abi3-manylinux2014_x86_64.whl (294 kB)\n",
            "\u001b[2K   \u001b[90m━━━━━━━━━━━━━━━━━━━━━━━━━━━━━━━━━━━━━━━━\u001b[0m \u001b[32m294.9/294.9 kB\u001b[0m \u001b[31m22.5 MB/s\u001b[0m eta \u001b[36m0:00:00\u001b[0m\n",
            "\u001b[?25hDownloading sounddevice-0.5.2-py3-none-any.whl (32 kB)\n",
            "Downloading opencv_contrib_python-4.11.0.86-cp37-abi3-manylinux_2_17_x86_64.manylinux2014_x86_64.whl (69.1 MB)\n",
            "\u001b[2K   \u001b[90m━━━━━━━━━━━━━━━━━━━━━━━━━━━━━━━━━━━━━━━━\u001b[0m \u001b[32m69.1/69.1 MB\u001b[0m \u001b[31m8.4 MB/s\u001b[0m eta \u001b[36m0:00:00\u001b[0m\n",
            "\u001b[?25hInstalling collected packages: protobuf, numpy, sounddevice, opencv-contrib-python, mediapipe\n",
            "  Attempting uninstall: protobuf\n",
            "    Found existing installation: protobuf 5.29.5\n",
            "    Uninstalling protobuf-5.29.5:\n",
            "      Successfully uninstalled protobuf-5.29.5\n",
            "  Attempting uninstall: numpy\n",
            "    Found existing installation: numpy 2.0.2\n",
            "    Uninstalling numpy-2.0.2:\n",
            "      Successfully uninstalled numpy-2.0.2\n",
            "  Attempting uninstall: opencv-contrib-python\n",
            "    Found existing installation: opencv-contrib-python 4.12.0.88\n",
            "    Uninstalling opencv-contrib-python-4.12.0.88:\n",
            "      Successfully uninstalled opencv-contrib-python-4.12.0.88\n",
            "\u001b[31mERROR: pip's dependency resolver does not currently take into account all the packages that are installed. This behaviour is the source of the following dependency conflicts.\n",
            "ydf 0.13.0 requires protobuf<7.0.0,>=5.29.1, but you have protobuf 4.25.8 which is incompatible.\n",
            "thinc 8.3.6 requires numpy<3.0.0,>=2.0.0, but you have numpy 1.26.4 which is incompatible.\n",
            "opencv-python 4.12.0.88 requires numpy<2.3.0,>=2; python_version >= \"3.9\", but you have numpy 1.26.4 which is incompatible.\n",
            "grpcio-status 1.71.2 requires protobuf<6.0dev,>=5.26.1, but you have protobuf 4.25.8 which is incompatible.\n",
            "opencv-python-headless 4.12.0.88 requires numpy<2.3.0,>=2; python_version >= \"3.9\", but you have numpy 1.26.4 which is incompatible.\u001b[0m\u001b[31m\n",
            "\u001b[0mSuccessfully installed mediapipe-0.10.21 numpy-1.26.4 opencv-contrib-python-4.11.0.86 protobuf-4.25.8 sounddevice-0.5.2\n"
          ]
        },
        {
          "output_type": "display_data",
          "data": {
            "application/vnd.colab-display-data+json": {
              "pip_warning": {
                "packages": [
                  "google",
                  "numpy"
                ]
              },
              "id": "6d5f40c3f886435b92ee688c338e9f8f"
            }
          },
          "metadata": {}
        }
      ]
    },
    {
      "cell_type": "code",
      "source": [
        "import kagglehub\n",
        "\n",
        "path = kagglehub.dataset_download('hasyimabdillah/workoutfitness-video')"
      ],
      "metadata": {
        "id": "CD6rSFXQBDl_",
        "outputId": "5abe3092-38fa-45b2-ce8e-d4342d048a96",
        "colab": {
          "base_uri": "https://localhost:8080/"
        }
      },
      "id": "CD6rSFXQBDl_",
      "execution_count": 2,
      "outputs": [
        {
          "output_type": "stream",
          "name": "stdout",
          "text": [
            "Resuming download from 2692743168 bytes (1948384512 bytes left)...\n",
            "Resuming download from https://www.kaggle.com/api/v1/datasets/download/hasyimabdillah/workoutfitness-video?dataset_version_number=5 (2692743168/4641127680) bytes left.\n"
          ]
        },
        {
          "output_type": "stream",
          "name": "stderr",
          "text": [
            "100%|██████████| 4.32G/4.32G [00:19<00:00, 102MB/s]"
          ]
        },
        {
          "output_type": "stream",
          "name": "stdout",
          "text": [
            "Extracting files...\n"
          ]
        },
        {
          "output_type": "stream",
          "name": "stderr",
          "text": [
            "\n"
          ]
        }
      ]
    },
    {
      "cell_type": "code",
      "execution_count": 3,
      "id": "218507cf-175c-483b-8500-a81b4ac3374b",
      "metadata": {
        "colab": {
          "base_uri": "https://localhost:8080/"
        },
        "id": "218507cf-175c-483b-8500-a81b4ac3374b",
        "outputId": "4fedbff5-613d-453c-f4d7-3a1e03588869"
      },
      "outputs": [
        {
          "output_type": "stream",
          "name": "stdout",
          "text": [
            "Models loaded successfully.\n"
          ]
        }
      ],
      "source": [
        "import sys\n",
        "sys.path.append('.')\n",
        "# Import necessary libraries\n",
        "import os\n",
        "from sklearn.model_selection import train_test_split\n",
        "from sitrex.preprocessing import calculate_angles, get_angle_points\n",
        "from sitrex.model import angle_usefulness_model, angle_similarity_model, TQDMProgressBar\n",
        "import tensorflow as tf\n",
        "import numpy as np\n",
        "\n",
        "# EarlyStop save path for the Angle Similarity Transformer\n",
        "MODEL_SAVE_PATH_USEFULNESS = './weights/angle_similarity_model_L300.h5'\n",
        "# EarlyStop save path for the Angle Usefulness Transformer\n",
        "MODEL_SAVE_PATH_SIMILARITY = './weights/angle_usefulness_model_L800.h5'\n",
        "# Batch Size\n",
        "batch_size = 32\n",
        "\n",
        "# Load the trained Siamese model\n",
        "similarity_model = angle_similarity_model(maxlen=300, module='transformer', lr=1e-4)\n",
        "similarity_model.load_weights(MODEL_SAVE_PATH_SIMILARITY)\n",
        "usefulness_model = angle_usefulness_model(maxlen=800, module='transformer', lr=1e-4)\n",
        "usefulness_model.load_weights(MODEL_SAVE_PATH_USEFULNESS)\n",
        "print(\"Models loaded successfully.\")"
      ]
    },
    {
      "cell_type": "code",
      "execution_count": 4,
      "id": "23778025-ea36-4eef-ad26-0c73b1091449",
      "metadata": {
        "id": "23778025-ea36-4eef-ad26-0c73b1091449"
      },
      "outputs": [],
      "source": [
        "import numpy as np\n",
        "\n",
        "def normalize_landmarks(landmarks):\n",
        "    if not landmarks or len(landmarks) < 33:\n",
        "        return []\n",
        "\n",
        "    # Body center calculation (using hips)\n",
        "    left_hip = landmarks[mp.solutions.pose.PoseLandmark.LEFT_HIP.value]\n",
        "    right_hip = landmarks[mp.solutions.pose.PoseLandmark.RIGHT_HIP.value]\n",
        "    center = {\n",
        "        'x': (left_hip.x + right_hip.x) / 2,\n",
        "        'y': (left_hip.y + right_hip.y) / 2,\n",
        "        'z': (left_hip.z + right_hip.z) / 2\n",
        "    }\n",
        "\n",
        "    # Scale calculation (shoulder width)\n",
        "    left_shoulder = landmarks[mp.solutions.pose.PoseLandmark.LEFT_SHOULDER.value]\n",
        "    right_shoulder = landmarks[mp.solutions.pose.PoseLandmark.RIGHT_SHOULDER.value]\n",
        "    scale = abs(left_shoulder.x - right_shoulder.x) or 1e-5\n",
        "\n",
        "    normalized = []\n",
        "    for lm in landmarks:\n",
        "        normalized.append({\n",
        "            'x': (lm.x - center['x']) / scale,\n",
        "            'y': (lm.y - center['y']) / scale,\n",
        "            'z': lm.z - center['z'],\n",
        "            'visibility': lm.visibility\n",
        "        })\n",
        "    return normalized"
      ]
    },
    {
      "cell_type": "code",
      "execution_count": 5,
      "id": "bfd6aa22-1762-4291-8f56-bcd9babd1f0d",
      "metadata": {
        "colab": {
          "base_uri": "https://localhost:8080/"
        },
        "id": "bfd6aa22-1762-4291-8f56-bcd9babd1f0d",
        "outputId": "51164b08-e7dd-470e-ccc4-d2cfad34fb56"
      },
      "outputs": [
        {
          "output_type": "stream",
          "name": "stdout",
          "text": [
            "Downloading model to /usr/local/lib/python3.12/dist-packages/mediapipe/modules/pose_landmark/pose_landmark_heavy.tflite\n"
          ]
        },
        {
          "output_type": "stream",
          "name": "stderr",
          "text": [
            "100%|██████████| 102/102 [00:12<00:00,  8.18it/s]\n"
          ]
        }
      ],
      "source": [
        "import cv2\n",
        "import matplotlib.pyplot as plt\n",
        "import mediapipe as mp\n",
        "from tqdm import tqdm\n",
        "\n",
        "coach_video = os.path.join(path, 'romanian deadlift/romanian deadlift_11.mp4')\n",
        "athlete_video = os.path.join(path, 'deadlift/deadlift_25.mp4')\n",
        "poser = mp.solutions.pose.Pose(\n",
        "            static_image_mode=False,\n",
        "            model_complexity=2,\n",
        "            min_detection_confidence=0.7,\n",
        "            min_tracking_confidence=0.7\n",
        "        )\n",
        "\n",
        "cap = cv2.VideoCapture(coach_video)\n",
        "T = int(cap.get(cv2.CAP_PROP_FRAME_COUNT))\n",
        "H = int(cap.get(cv2.CAP_PROP_FRAME_HEIGHT))\n",
        "W = int(cap.get(cv2.CAP_PROP_FRAME_WIDTH))\n",
        "coach_frames = np.empty((T, H, W, 3), np.uint8)\n",
        "coach_angles = np.empty((T, 23), np.uint8)\n",
        "for t in tqdm(range(T)):\n",
        "    success, frame = cap.read()\n",
        "    coach_frames[t, :, :, :] = cv2.cvtColor(frame, cv2.COLOR_BGR2RGB)\n",
        "    result = poser.process(frame)\n",
        "    landmarks = result.pose_landmarks.landmark\n",
        "    angles = calculate_angles(normalize_landmarks(landmarks))\n",
        "    names = sorted(list(angles.keys()))\n",
        "    angles = [angles[name] for name in names]\n",
        "    coach_angles[t, :] = angles"
      ]
    },
    {
      "cell_type": "code",
      "execution_count": 6,
      "id": "be57b2d8-2b22-46c6-aa17-2e7f2915cf72",
      "metadata": {
        "colab": {
          "base_uri": "https://localhost:8080/"
        },
        "id": "be57b2d8-2b22-46c6-aa17-2e7f2915cf72",
        "outputId": "7acbee75-926d-4178-d3a2-a5ad00186098"
      },
      "outputs": [
        {
          "output_type": "stream",
          "name": "stdout",
          "text": [
            "\u001b[1m1/1\u001b[0m \u001b[32m━━━━━━━━━━━━━━━━━━━━\u001b[0m\u001b[37m\u001b[0m \u001b[1m0s\u001b[0m 400ms/step\n",
            "[0 0 0 1 0 1 0 0 0 0 0 0 0 0 1 0 1 0 0 0 0 0 1]\n"
          ]
        }
      ],
      "source": [
        "coach = np.empty((1, usefulness_model.input_shape[1], usefulness_model.input_shape[2]), np.float32)\n",
        "if coach_angles.shape[0] < usefulness_model.input_shape[1]:\n",
        "    coach[0, :coach_angles.shape[0], :] = coach_angles[:, :]\n",
        "    coach[0, coach_angles.shape[0]:, :] = 0\n",
        "else:\n",
        "    coach[0, :, :] = coach_angles[:usefulness_model.input_shape[1], :]\n",
        "usefulness = np.where(usefulness_model.predict(coach)[0] < 0.5, 0, 1)\n",
        "print(usefulness)"
      ]
    },
    {
      "cell_type": "code",
      "execution_count": 7,
      "id": "69d41465-eed3-4d4b-983b-c0047ebccea5",
      "metadata": {
        "colab": {
          "base_uri": "https://localhost:8080/"
        },
        "id": "69d41465-eed3-4d4b-983b-c0047ebccea5",
        "outputId": "2a2679b6-95e5-4f3a-8d11-5a627dd68811"
      },
      "outputs": [
        {
          "output_type": "stream",
          "name": "stderr",
          "text": [
            "100%|██████████| 938/938 [01:55<00:00,  8.15it/s]\n"
          ]
        }
      ],
      "source": [
        "cap = cv2.VideoCapture(athlete_video)\n",
        "T = int(cap.get(cv2.CAP_PROP_FRAME_COUNT))\n",
        "H = int(cap.get(cv2.CAP_PROP_FRAME_HEIGHT))\n",
        "W = int(cap.get(cv2.CAP_PROP_FRAME_WIDTH))\n",
        "FPS = int(cap.get(cv2.CAP_PROP_FPS))\n",
        "athlete_frames = np.empty((T, H, W, 3), np.uint8)\n",
        "athlete_angles = np.empty((T, 23), np.uint8)\n",
        "athlete_landmarks = []\n",
        "for t in tqdm(range(T)):\n",
        "    success, frame = cap.read()\n",
        "    if success:\n",
        "        frame = cv2.cvtColor(frame, cv2.COLOR_BGR2RGB)\n",
        "        result = poser.process(frame)\n",
        "        landmarks = result.pose_landmarks.landmark\n",
        "        angles = calculate_angles(normalize_landmarks(landmarks))\n",
        "        names = sorted(list(angles.keys()))\n",
        "        angles = [angles[name] for name in names]\n",
        "        athlete_frames[t, :, :, :] = frame\n",
        "        athlete_angles[t, :] = angles\n",
        "        athlete_landmarks.append(landmarks)"
      ]
    },
    {
      "cell_type": "code",
      "execution_count": 8,
      "id": "44418621-c69b-4079-96d3-78bedae6ed7c",
      "metadata": {
        "colab": {
          "base_uri": "https://localhost:8080/"
        },
        "id": "44418621-c69b-4079-96d3-78bedae6ed7c",
        "outputId": "08dd7f90-5bcf-4904-f3b0-6e4f06ed8528"
      },
      "outputs": [
        {
          "output_type": "stream",
          "name": "stdout",
          "text": [
            "\u001b[1m30/30\u001b[0m \u001b[32m━━━━━━━━━━━━━━━━━━━━\u001b[0m\u001b[37m\u001b[0m \u001b[1m12s\u001b[0m 404ms/step\n"
          ]
        }
      ],
      "source": [
        "coach = np.empty((athlete_angles.shape[0], similarity_model.input_shape[0][1], similarity_model.input_shape[0][2]), np.float32)\n",
        "if coach_angles.shape[0] < similarity_model.input_shape[0][1]:\n",
        "    for t in range(athlete_angles.shape[0]):\n",
        "        coach[t, :coach_angles.shape[0], :] = coach_angles[:, :]\n",
        "        coach[t, coach_angles.shape[0]:, :] = 0\n",
        "else:\n",
        "    for t in range(athlete_angles.shape[0]):\n",
        "        coach[t, :, :] = coach_angles[:similarity_model.input_shape[0][1], :]\n",
        "\n",
        "athlete = np.empty((athlete_angles.shape[0], similarity_model.input_shape[1][1], similarity_model.input_shape[1][2]), np.float32)\n",
        "for t in range(athlete_angles.shape[0]):\n",
        "    if t < similarity_model.input_shape[1][1]:\n",
        "        athlete[t, :t, :] = athlete_angles[:t, :]\n",
        "        athlete[t, t:, :] = 0\n",
        "    else:\n",
        "        athlete[t, :, :] = athlete_angles[t-similarity_model.input_shape[1][1]:t, :]\n",
        "\n",
        "similarity = similarity_model.predict([coach, athlete])"
      ]
    },
    {
      "cell_type": "code",
      "execution_count": 9,
      "id": "c525383f-f909-4e79-9e86-ffa8294fb340",
      "metadata": {
        "colab": {
          "base_uri": "https://localhost:8080/"
        },
        "id": "c525383f-f909-4e79-9e86-ffa8294fb340",
        "outputId": "0240902e-1824-462c-f875-b5c5e810eef8"
      },
      "outputs": [
        {
          "output_type": "stream",
          "name": "stderr",
          "text": [
            "100%|██████████| 938/938 [00:13<00:00, 70.71it/s]"
          ]
        },
        {
          "output_type": "stream",
          "name": "stdout",
          "text": [
            "Video saved as output_video.mp4\n"
          ]
        },
        {
          "output_type": "stream",
          "name": "stderr",
          "text": [
            "\n"
          ]
        }
      ],
      "source": [
        "from PIL import Image, ImageDraw\n",
        "\n",
        "def standardize_landmarks(landmarks):\n",
        "    if not landmarks or len(landmarks) < 33:\n",
        "        return []\n",
        "    normalized = []\n",
        "    for lm in landmarks:\n",
        "        normalized.append({\n",
        "            'x': lm.x,\n",
        "            'y': lm.y,\n",
        "            'z': lm.z,\n",
        "            'visibility': lm.visibility\n",
        "        })\n",
        "    return normalized\n",
        "\n",
        "def draw_pi_slice(draw, center, point1, point2, fill):\n",
        "    radius = np.linalg.norm(point1 - center)\n",
        "    bbox = [\n",
        "        center[0] - radius, center[1] - radius,\n",
        "        center[0] + radius, center[1] + radius\n",
        "    ]\n",
        "\n",
        "    def angle_between(p, center):\n",
        "        dx = p[0] - center[0]\n",
        "        dy = p[1] - center[1]\n",
        "        angle = np.degrees(np.arctan2(dy, dx)) % 360\n",
        "        return angle\n",
        "\n",
        "    start_angle = angle_between(point1, center)\n",
        "    end_angle = angle_between(point2, center)\n",
        "    if (end_angle - start_angle) % 360 > 180:\n",
        "        end_angle, start_angle = start_angle, end_angle\n",
        "    draw.pieslice(bbox, start=start_angle, end=end_angle, fill=fill)\n",
        "\n",
        "# Define the codec and create VideoWriter object\n",
        "w, h = athlete_frames.shape[2], athlete_frames.shape[1]\n",
        "fourcc = cv2.VideoWriter_fourcc(*'mp4v')  # or 'XVID'\n",
        "out = cv2.VideoWriter('../output_video.mp4', fourcc, FPS, (w, h))\n",
        "\n",
        "# Write images to video\n",
        "for t in tqdm(range(athlete_frames.shape[0])):\n",
        "    landmarks = athlete_landmarks[t]\n",
        "    frame = Image.fromarray(athlete_frames[t])\n",
        "    draw = ImageDraw.Draw(frame)\n",
        "    angle_points = get_angle_points(standardize_landmarks(landmarks))\n",
        "    for i in range(len(angle_points)):\n",
        "        if usefulness[i] >= 0.5:\n",
        "            a, b, c, d, e = angle_points[names[i]]\n",
        "            r, g = int(255 * (1 - similarity[t, i])), int(255 * similarity[t, i])\n",
        "            draw.line([a[0]*w, a[1]*h, b[0]*w, b[1]*h], fill=(r, g, 0), width=5)\n",
        "            draw.line([a[0]*w, a[1]*h, c[0]*w, c[1]*h], fill=(r, g, 0), width=5)\n",
        "            draw_pi_slice(draw,\n",
        "                          np.array([a[0]*w, a[1]*h]),\n",
        "                          np.array([d[0]*w, d[1]*h]),\n",
        "                          np.array([e[0]*w, e[1]*h]),\n",
        "                          (r, g, 0))\n",
        "    out.write(cv2.cvtColor(np.array(frame), cv2.COLOR_BGR2RGB))  # Add frame\n",
        "\n",
        "# Release everything\n",
        "out.release()\n",
        "print(\"Video saved as output_video.mp4\")"
      ]
    }
  ],
  "metadata": {
    "kernelspec": {
      "display_name": "Python 3 (ipykernel)",
      "language": "python",
      "name": "python3"
    },
    "language_info": {
      "codemirror_mode": {
        "name": "ipython",
        "version": 3
      },
      "file_extension": ".py",
      "mimetype": "text/x-python",
      "name": "python",
      "nbconvert_exporter": "python",
      "pygments_lexer": "ipython3",
      "version": "3.11.8"
    },
    "colab": {
      "provenance": []
    }
  },
  "nbformat": 4,
  "nbformat_minor": 5
}